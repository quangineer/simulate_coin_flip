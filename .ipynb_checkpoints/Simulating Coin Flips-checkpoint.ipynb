{
 "cells": [
  {
   "cell_type": "code",
   "execution_count": 1,
   "metadata": {},
   "outputs": [],
   "source": [
    "# Rolling a single coin using Scipy :\n",
    "# https://docs.scipy.org/doc/numpy/reference/routines.random.html"
   ]
  },
  {
   "cell_type": "code",
   "execution_count": 2,
   "metadata": {},
   "outputs": [],
   "source": [
    "# Return random integers from low (inclusive) to high (exclusive).\n",
    "# https://docs.scipy.org/doc/numpy/reference/generated/numpy.random.randint.html#numpy.random.randint"
   ]
  },
  {
   "cell_type": "code",
   "execution_count": 3,
   "metadata": {},
   "outputs": [],
   "source": [
    "import numpy as np"
   ]
  },
  {
   "cell_type": "code",
   "execution_count": 4,
   "metadata": {},
   "outputs": [
    {
     "data": {
      "text/plain": [
       "array([0, 0, 0, ..., 0, 1, 0])"
      ]
     },
     "execution_count": 4,
     "metadata": {},
     "output_type": "execute_result"
    }
   ],
   "source": [
    "np.random.randint((2), size=10000) # Produce 10000 results\n",
    "# We can write the command above as np.random.randint(0,2) or np.random.randint([0,1])\n",
    "# Because the lower bound is 0 and highest is 2 because it is exclusive."
   ]
  },
  {
   "cell_type": "code",
   "execution_count": 5,
   "metadata": {},
   "outputs": [],
   "source": [
    "# Return a bias coin with higher probability lieing on head/tail\n",
    "# https://docs.scipy.org/doc/numpy/reference/generated/numpy.random.choice.html#numpy.random.choice"
   ]
  },
  {
   "cell_type": "code",
   "execution_count": 6,
   "metadata": {},
   "outputs": [
    {
     "data": {
      "text/plain": [
       "0.201"
      ]
     },
     "execution_count": 6,
     "metadata": {},
     "output_type": "execute_result"
    }
   ],
   "source": [
    "np.random.choice(([0,1]), size=10000, p=[.8,.2]).mean()"
   ]
  },
  {
   "cell_type": "code",
   "execution_count": 7,
   "metadata": {},
   "outputs": [],
   "source": [
    "# The above command shows us that when we flip a coin, with a bias of 80% it will produce \"0\" and 20% it will produce \"1\""
   ]
  },
  {
   "cell_type": "code",
   "execution_count": 9,
   "metadata": {},
   "outputs": [
    {
     "data": {
      "text/plain": [
       "0.250078"
      ]
     },
     "execution_count": 9,
     "metadata": {},
     "output_type": "execute_result"
    }
   ],
   "source": [
    "### Two fair coin flips produce exactly two heads:\n",
    "# Simulate 1 million tests of two fair coin flips:\n",
    "tests = np.random.randint(2, size=(int(1e6), 2))\n",
    "# Sums of all tests:\n",
    "test_sums = tests.sum(axis=1)\n",
    "# Proportion of tests that produced exactly two heads:\n",
    "(test_sums == 0).mean()\n",
    "# In this sub-repo: it initially creates 2 lists containing 1M event each list of chance of tossing a coin H or T. \n",
    "# Then taking axis=1 to sum each element of 2 lists respectively\n",
    "# If the sum equal zero, take the mean of all that happens like that."
   ]
  },
  {
   "cell_type": "code",
   "execution_count": 27,
   "metadata": {},
   "outputs": [
    {
     "name": "stdout",
     "output_type": "stream",
     "text": [
      "[[1 0 0]\n",
      " [0 0 1]\n",
      " [1 1 0]\n",
      " ...\n",
      " [0 1 0]\n",
      " [1 1 1]\n",
      " [0 0 1]]\n"
     ]
    }
   ],
   "source": [
    "### Three fair coin flips produce exactly one head:\n",
    "# Simulate 1 million tests of three fair coin flips:\n",
    "tests = np.random.randint(2, size=(int(1e6), 3))\n",
    "test_sums = tests.sum(axis=1)\n",
    "(test_sums == 2).mean()\n"
   ]
  },
  {
   "cell_type": "code",
   "execution_count": 11,
   "metadata": {},
   "outputs": [
    {
     "data": {
      "text/plain": [
       "0.287912"
      ]
     },
     "execution_count": 11,
     "metadata": {},
     "output_type": "execute_result"
    }
   ],
   "source": [
    "### Three biased coin flip with P(H)=0.6 produce exactly one head:\n",
    "tests = np.random.choice(([0,1]), size=(int(1e6), 3), p=[.6,.4])\n",
    "test_sums = tests.sum(axis=1)\n",
    "(test_sums == 2).mean()"
   ]
  },
  {
   "cell_type": "code",
   "execution_count": 12,
   "metadata": {},
   "outputs": [
    {
     "data": {
      "text/plain": [
       "0.499131"
      ]
     },
     "execution_count": 12,
     "metadata": {},
     "output_type": "execute_result"
    }
   ],
   "source": [
    "### A die rolls an even number:\n",
    "tests = np.random.randint((6),size=int(1e6))\n",
    "for i in range(len(tests)):\n",
    "    tests[i] = tests[i]+1\n",
    "(tests %2 ==0).mean()"
   ]
  },
  {
   "cell_type": "code",
   "execution_count": 13,
   "metadata": {},
   "outputs": [
    {
     "name": "stdout",
     "output_type": "stream",
     "text": [
      "0.166165\n"
     ]
    }
   ],
   "source": [
    "### Two dice roll a double:\n",
    "first_die = np.random.randint((6), size=int(1e6))\n",
    "for i in range(len(first_die)):\n",
    "    first_die[i]=first_die[i]+1\n",
    "second_die = np.random.randint((6), size=int(1e6))\n",
    "for i in range(len(second_die)):\n",
    "    second_die[i]=second_die[i]+1\n",
    "#Proportion:\n",
    "length=0\n",
    "for i in range(len(first_die)):\n",
    "    if first_die[i]==second_die[i]:\n",
    "        length += 1\n",
    "print ((length)/(1e6))"
   ]
  },
  {
   "cell_type": "code",
   "execution_count": 21,
   "metadata": {},
   "outputs": [
    {
     "data": {
      "text/plain": [
       "3"
      ]
     },
     "execution_count": 21,
     "metadata": {},
     "output_type": "execute_result"
    }
   ],
   "source": [
    "np.random.binomial(n=10,p=0.5)  # n: the number of flips\n",
    "                                # p: the probability of heads for each flip\n",
    "# It will produce the number of success of the events"
   ]
  },
  {
   "cell_type": "code",
   "execution_count": 22,
   "metadata": {},
   "outputs": [
    {
     "data": {
      "text/plain": [
       "array([6, 3, 6, 7, 4, 3, 7, 6, 5, 3, 4, 7, 6, 5, 5, 4, 6, 5, 7, 8])"
      ]
     },
     "execution_count": 22,
     "metadata": {},
     "output_type": "execute_result"
    }
   ],
   "source": [
    "# Each number in this array represents the number of heads that \n",
    "# results from each test of 10 coin flips\n",
    "np.random.binomial(n=10, p=0.5, size=20)"
   ]
  },
  {
   "cell_type": "code",
   "execution_count": 23,
   "metadata": {},
   "outputs": [
    {
     "data": {
      "text/plain": [
       "5.0"
      ]
     },
     "execution_count": 23,
     "metadata": {},
     "output_type": "execute_result"
    }
   ],
   "source": [
    "np.random.binomial(n=10, p=0.5, size=20).mean()"
   ]
  },
  {
   "cell_type": "code",
   "execution_count": 25,
   "metadata": {},
   "outputs": [
    {
     "data": {
      "text/plain": [
       "(array([   8.,  104.,  452., 1174., 2088., 2429., 2032., 1134.,  469.,\n",
       "         110.]),\n",
       " array([ 0.,  1.,  2.,  3.,  4.,  5.,  6.,  7.,  8.,  9., 10.]),\n",
       " <a list of 10 Patch objects>)"
      ]
     },
     "execution_count": 25,
     "metadata": {},
     "output_type": "execute_result"
    },
    {
     "data": {
      "image/png": "[encoded data removed]",
      "text/plain": [
       "<Figure size 432x288 with 1 Axes>"
      ]
     },
     "metadata": {
      "needs_background": "light"
     },
     "output_type": "display_data"
    }
   ],
   "source": [
    "# Now let's import matplotlib with a size of 1e4:\n",
    "import matplotlib.pyplot as plt\n",
    "%matplotlib inline\n",
    "plt.hist(np.random.binomial(n=10, p=0.5, size = int(1e4)))"
   ]
  },
  {
   "cell_type": "code",
   "execution_count": null,
   "metadata": {},
   "outputs": [],
   "source": []
  }
 ],
 "metadata": {
  "kernelspec": {
   "display_name": "Python 3",
   "language": "python",
   "name": "python3"
  },
  "language_info": {
   "codemirror_mode": {
    "name": "ipython",
    "version": 3
   },
   "file_extension": ".py",
   "mimetype": "text/x-python",
   "name": "python",
   "nbconvert_exporter": "python",
   "pygments_lexer": "ipython3",
   "version": "3.7.3"
  }
 },
 "nbformat": 4,
 "nbformat_minor": 2
}
