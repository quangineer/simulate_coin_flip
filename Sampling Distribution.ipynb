{
 "cells": [
  {
   "cell_type": "code",
   "execution_count": 4,
   "metadata": {},
   "outputs": [],
   "source": [
    "import numpy as np\n",
    "import matplotlib.pyplot as plt\n",
    "np.random.seed(42)"
   ]
  },
  {
   "cell_type": "code",
   "execution_count": 5,
   "metadata": {},
   "outputs": [],
   "source": [
    "# 0 means NO coffee drink; 1 means coffee drink\n",
    "students = np.array([1,0,1,1,1,1,0,0,0,0,1,1,1,1,1,1,1,1,1,1,0])"
   ]
  },
  {
   "cell_type": "code",
   "execution_count": 7,
   "metadata": {},
   "outputs": [
    {
     "name": "stdout",
     "output_type": "stream",
     "text": [
      "0.7142857142857143\n"
     ]
    }
   ],
   "source": [
    "# Find the proportion of students drinking coffee in the above array.\n",
    "(students == 1).mean() + (students == 0).mean() = 1 # numpy\n",
    "p=students.mean()\n",
    "print (p)"
   ]
  },
  {
   "cell_type": "code",
   "execution_count": 8,
   "metadata": {},
   "outputs": [
    {
     "name": "stdout",
     "output_type": "stream",
     "text": [
      "[0 1 1 1 0]\n",
      "int64\n",
      "0.6\n"
     ]
    }
   ],
   "source": [
    "# Use numpy's random.choice to simulate 5 draws from the students array.\n",
    "# Find the proportion of sample drinking coffee\n",
    "sample1 = np.random.choice(students, 5, replace=True)\n",
    "print (sample1)\n",
    "print (sample1.dtype)\n",
    "print (sample1.mean())"
   ]
  },
  {
   "cell_type": "code",
   "execution_count": 12,
   "metadata": {},
   "outputs": [],
   "source": [
    "# This sample1 above is a list of interger, in order to calculate\n",
    "# mean/proportions, we need to cast it in a numpy array as follows:\n",
    "# np.array(sample1)"
   ]
  },
  {
   "cell_type": "code",
   "execution_count": 14,
   "metadata": {},
   "outputs": [],
   "source": [
    "# Repeat the 5-draw simulation sample to obtain 10,000 additional proportions\n",
    "sample_props = []\n",
    "for i in range(10000):\n",
    "    sample=np.random.choice(students, 5, replace=True)\n",
    "    sample_props.append(sample.mean())"
   ]
  },
  {
   "cell_type": "code",
   "execution_count": 15,
   "metadata": {},
   "outputs": [
    {
     "data": {
      "text/plain": [
       "0.71404"
      ]
     },
     "execution_count": 15,
     "metadata": {},
     "output_type": "execute_result"
    }
   ],
   "source": [
    "# The mean proportion of all 10,000 of these proportions:\n",
    "# Or called the mean of the sampling distribution:\n",
    "# First, cast the list \"sample_props\" into a numpy array:\n",
    "sample_props=np.array(sample_props)\n",
    "sample_props.mean()"
   ]
  },
  {
   "cell_type": "code",
   "execution_count": 18,
   "metadata": {},
   "outputs": [
    {
     "name": "stdout",
     "output_type": "stream",
     "text": [
      "The standard deviation for the original data is 0.45175395145262565\n",
      "The variance for the original data is 0.20408163265306126\n"
     ]
    }
   ],
   "source": [
    "# In numpy, there is short and useful command to find the variance\n",
    "# and standard deviation for the original 21 data values\n",
    "students.std() or np.std(students)\n",
    "print(\"The standard deviation for the original data is {}\".format(students.std()))\n",
    "students.var() or np.var(students)\n",
    "print(\"The variance for the original data is {}\".format(students.var()))"
   ]
  },
  {
   "cell_type": "code",
   "execution_count": 20,
   "metadata": {},
   "outputs": [
    {
     "name": "stdout",
     "output_type": "stream",
     "text": [
      "0.2043792513930903\n",
      "0.0417708784\n"
     ]
    }
   ],
   "source": [
    "# What the variance and standard deviation for the 10,000 proportions ?\n",
    "print (sample_props.std())\n",
    "print (sample_props.var())"
   ]
  },
  {
   "cell_type": "code",
   "execution_count": 21,
   "metadata": {},
   "outputs": [
    {
     "name": "stdout",
     "output_type": "stream",
     "text": [
      "0.20408163265306123\n",
      "0.04081632653061225\n"
     ]
    }
   ],
   "source": [
    "print (p*(1-p))  # The variance of the original data\n",
    "print (p*(1-p)/5) # The variance of the sample mean of size 5"
   ]
  },
  {
   "cell_type": "code",
   "execution_count": 22,
   "metadata": {},
   "outputs": [],
   "source": [
    "# Now try with a sample of 20 and a 10,000 proportions:\n",
    "sample_props_20 = []\n",
    "for i in range(10000):\n",
    "    sample = np.random.choice(students, 20, replace=True)\n",
    "    sample_props_20.append(sample.mean())"
   ]
  },
  {
   "cell_type": "code",
   "execution_count": 24,
   "metadata": {},
   "outputs": [
    {
     "name": "stdout",
     "output_type": "stream",
     "text": [
      "0.010204081632653062\n",
      "0.0103038936\n"
     ]
    }
   ],
   "source": [
    "# Now calculate the variace of \"the sample of 20 and a 10,000 proportions\"\n",
    "print (p*(1-p)/20)\n",
    "# Alternative method:\n",
    "sample_props_20=np.array(sample_props_20)\n",
    "print (sample_props_20.var())"
   ]
  },
  {
   "cell_type": "code",
   "execution_count": 25,
   "metadata": {},
   "outputs": [
    {
     "data": {
      "image/png": "[encoded data removed]",
      "text/plain": [
       "<Figure size 432x288 with 1 Axes>"
      ]
     },
     "metadata": {
      "needs_background": "light"
     },
     "output_type": "display_data"
    }
   ],
   "source": [
    "plt.hist(sample_props, alpha=.5);\n",
    "plt.hist(sample_props_20, alpha=.5);"
   ]
  },
  {
   "cell_type": "code",
   "execution_count": null,
   "metadata": {},
   "outputs": [],
   "source": []
  }
 ],
 "metadata": {
  "kernelspec": {
   "display_name": "Python 3",
   "language": "python",
   "name": "python3"
  },
  "language_info": {
   "codemirror_mode": {
    "name": "ipython",
    "version": 3
   },
   "file_extension": ".py",
   "mimetype": "text/x-python",
   "name": "python",
   "nbconvert_exporter": "python",
   "pygments_lexer": "ipython3",
   "version": "3.7.3"
  }
 },
 "nbformat": 4,
 "nbformat_minor": 2
}
