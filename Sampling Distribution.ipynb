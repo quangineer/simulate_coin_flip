{
 "cells": [
  {
   "cell_type": "code",
   "execution_count": 4,
   "metadata": {},
   "outputs": [],
   "source": [
    "import numpy as np\n",
    "import matplotlib.pyplot as plt\n",
    "np.random.seed(42)"
   ]
  },
  {
   "cell_type": "code",
   "execution_count": 5,
   "metadata": {},
   "outputs": [],
   "source": [
    "# 0 means NO coffee drink; 1 means coffee drink\n",
    "students = np.array([1,0,1,1,1,1,0,0,0,0,1,1,1,1,1,1,1,1,1,1,0])"
   ]
  },
  {
   "cell_type": "code",
   "execution_count": 7,
   "metadata": {},
   "outputs": [
    {
     "name": "stdout",
     "output_type": "stream",
     "text": [
      "0.7142857142857143\n"
     ]
    }
   ],
   "source": [
    "# Find the proportion of students drinking coffee in the above array.\n",
    "(students == 1).mean() + (students == 0).mean() = 1 # numpy\n",
    "p=students.mean()\n",
    "print (p)"
   ]
  },
  {
   "cell_type": "code",
   "execution_count": 8,
   "metadata": {},
   "outputs": [
    {
     "name": "stdout",
     "output_type": "stream",
     "text": [
      "[0 1 1 1 0]\n",
      "int64\n",
      "0.6\n"
     ]
    }
   ],
   "source": [
    "# Use numpy's random.choice to simulate 5 draws from the students array.\n",
    "# Find the proportion of sample drinking coffee\n",
    "sample1 = np.random.choice(students, 5, replace=True)\n",
    "print (sample1)\n",
    "print (sample1.dtype)\n",
    "print (sample1.mean())"
   ]
  },
  {
   "cell_type": "code",
   "execution_count": 12,
   "metadata": {},
   "outputs": [],
   "source": [
    "# This sample1 above is a list of interger, in order to calculate\n",
    "# mean/proportions, we need to cast it in a numpy array as follows:\n",
    "# np.array(sample1)"
   ]
  },
  {
   "cell_type": "code",
   "execution_count": null,
   "metadata": {},
   "outputs": [],
   "source": [
    "# Repeat the 5-draw simulation sample to obtain 10,000 additional proportions\n",
    "sample_props = []\n",
    "for i in range(10000):\n",
    "    sample=np.random.choice(students, 5, replace=True)\n",
    "    sam"
   ]
  }
 ],
 "metadata": {
  "kernelspec": {
   "display_name": "Python 3",
   "language": "python",
   "name": "python3"
  },
  "language_info": {
   "codemirror_mode": {
    "name": "ipython",
    "version": 3
   },
   "file_extension": ".py",
   "mimetype": "text/x-python",
   "name": "python",
   "nbconvert_exporter": "python",
   "pygments_lexer": "ipython3",
   "version": "3.7.3"
  }
 },
 "nbformat": 4,
 "nbformat_minor": 2
}
